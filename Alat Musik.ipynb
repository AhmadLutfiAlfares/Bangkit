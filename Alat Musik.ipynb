{
 "cells": [
  {
   "cell_type": "code",
   "execution_count": 1,
   "metadata": {},
   "outputs": [],
   "source": [
    "import os\n",
    "import tensorflow as tf \n",
    "import shutil\n",
    "from tensorflow.keras.preprocessing.image import ImageDataGenerator\n",
    "from tensorflow import keras\n",
    "from shutil import copyfile\n",
    "import matplotlib.pyplot as plt\n",
    "import splitfolders"
   ]
  },
  {
   "cell_type": "code",
   "execution_count": 2,
   "metadata": {},
   "outputs": [],
   "source": [
    "# base_dir = '\\capstone\\Dataset'\n",
    "base_dir = '/capstone/Dataset'"
   ]
  },
  {
   "cell_type": "code",
   "execution_count": 3,
   "metadata": {},
   "outputs": [
    {
     "name": "stderr",
     "output_type": "stream",
     "text": [
      "Copying files: 1500 files [00:07, 211.82 files/s]\n"
     ]
    }
   ],
   "source": [
    "splitfolders.ratio(\n",
    "    base_dir,\n",
    "    output='fixDataset',\n",
    "    ratio=(.7,0.1, 0.2)\n",
    ")"
   ]
  },
  {
   "cell_type": "code",
   "execution_count": 4,
   "metadata": {},
   "outputs": [
    {
     "data": {
      "text/plain": [
       "['Angklung', 'Arumba', 'Calung', 'Jengglong', 'Kendang']"
      ]
     },
     "execution_count": 4,
     "metadata": {},
     "output_type": "execute_result"
    }
   ],
   "source": [
    "train_dir = 'fixDataset/train/'\n",
    "val_dir = 'fixDataset/val/'\n",
    "val_dir = 'fixDataset/test/'\n",
    "os.listdir(train_dir)"
   ]
  },
  {
   "cell_type": "code",
   "execution_count": 5,
   "metadata": {},
   "outputs": [],
   "source": [
    "# augmentasi gambar\n",
    "train_datagen = ImageDataGenerator(\n",
    "                    rescale=1./255,\n",
    "                    rotation_range=0.45, # memutar gambar\n",
    "                    width_shift_range=0.2,\n",
    "                    height_shift_range=0.2,\n",
    "                    brightness_range=(0.5,1.0), # value < 1 lebih gelap\n",
    "                    shear_range=0.2, # untuk mengatur skala image\n",
    "                    zoom_range=(0.8,1.0), # value < 1 akan zoom in\n",
    "                    fill_mode='nearest', # untuk mengisi gambar atau wadah yang tidak memiliki nilai\n",
    "                    horizontal_flip=True\n",
    "                    )\n",
    "test_datagen = ImageDataGenerator(rescale=1./255)\n",
    "val_datagen = ImageDataGenerator(rescale=1./255)"
   ]
  },
  {
   "cell_type": "code",
   "execution_count": 6,
   "metadata": {},
   "outputs": [
    {
     "name": "stdout",
     "output_type": "stream",
     "text": [
      "Found 1198 images belonging to 5 classes.\n",
      "Found 304 images belonging to 5 classes.\n",
      "Found 304 images belonging to 5 classes.\n"
     ]
    }
   ],
   "source": [
    "train_generator = train_datagen.flow_from_directory(\n",
    "    train_dir, # direktori data train\n",
    "    target_size=(150,150), # mengubah resolusi seluruh gambar jadi 150*150\n",
    "    batch_size=32,# untuk menentukan jumlah image yang akan dimasukkan ke dalam steps training\n",
    "    class_mode='categorical',\n",
    "    shuffle=True\n",
    ")\n",
    "\n",
    "val_generator = val_datagen.flow_from_directory(\n",
    "    val_dir,\n",
    "    target_size=(150,150),\n",
    "    batch_size=32,\n",
    "    class_mode='categorical',\n",
    "    shuffle=True\n",
    ")\n",
    "\n",
    "test_generator = test_datagen.flow_from_directory(\n",
    "    val_dir,\n",
    "    target_size=(150,150),\n",
    "    batch_size=32,\n",
    "    class_mode='categorical',\n",
    "    shuffle=True\n",
    ")"
   ]
  },
  {
   "cell_type": "code",
   "execution_count": 7,
   "metadata": {},
   "outputs": [],
   "source": [
    "image, label = train_generator.next()"
   ]
  },
  {
   "cell_type": "code",
   "execution_count": 8,
   "metadata": {},
   "outputs": [],
   "source": [
    "class_name = os.listdir(train_dir)"
   ]
  },
  {
   "cell_type": "code",
   "execution_count": 9,
   "metadata": {},
   "outputs": [
    {
     "data": {
      "text/plain": [
       "['Angklung', 'Arumba', 'Calung', 'Jengglong', 'Kendang']"
      ]
     },
     "execution_count": 9,
     "metadata": {},
     "output_type": "execute_result"
    }
   ],
   "source": [
    "class_name"
   ]
  },
  {
   "attachments": {},
   "cell_type": "markdown",
   "metadata": {},
   "source": [
    "MODEL"
   ]
  },
  {
   "cell_type": "code",
   "execution_count": 27,
   "metadata": {},
   "outputs": [],
   "source": [
    "from keras.callbacks import EarlyStopping\n",
    "\n",
    "monitor_val_acc = EarlyStopping(monitor='val_accuracy', patience=3)"
   ]
  },
  {
   "cell_type": "code",
   "execution_count": 28,
   "metadata": {},
   "outputs": [],
   "source": [
    "model = tf.keras.models.Sequential([\n",
    "    tf.keras.layers.Conv2D(32, (3,3), activation='relu', input_shape=(150,150,3)), #input layer\n",
    "    # Hidden Layer\n",
    "    tf.keras.layers.MaxPooling2D(2,2),\n",
    "    tf.keras.layers.Conv2D(64, (3,3), activation='relu'),\n",
    "    tf.keras.layers.MaxPooling2D(2,2),\n",
    "    tf.keras.layers.Conv2D(128, (3,3), activation='relu'),\n",
    "    tf.keras.layers.MaxPooling2D(2,2),\n",
    "    tf.keras.layers.Conv2D(256, (3,3), activation='relu'),\n",
    "    tf.keras.layers.MaxPooling2D(2,2),\n",
    "    tf.keras.layers.Dropout(0.2),\n",
    "    tf.keras.layers.Flatten(), #menyatukan inputan yang memiliki dimensi\n",
    "    tf.keras.layers.Dense(1024, activation='relu'),\n",
    "    tf.keras.layers.Dense(512, activation='relu'),\n",
    "    # Hidden Layer\n",
    "    tf.keras.layers.Dense(5, activation='softmax') # output Layer\n",
    "])"
   ]
  },
  {
   "cell_type": "code",
   "execution_count": 29,
   "metadata": {},
   "outputs": [],
   "source": [
    "model.compile(\n",
    "    tf.keras.optimizers.Adam(learning_rate=0.001),\n",
    "    loss='categorical_crossentropy',\n",
    "    metrics=['accuracy']\n",
    ")"
   ]
  },
  {
   "cell_type": "code",
   "execution_count": 30,
   "metadata": {},
   "outputs": [
    {
     "name": "stdout",
     "output_type": "stream",
     "text": [
      "Epoch 1/30\n",
      "38/38 [==============================] - 81s 2s/step - loss: 1.5551 - accuracy: 0.2538 - val_loss: 1.5413 - val_accuracy: 0.3289\n",
      "Epoch 2/30\n",
      "38/38 [==============================] - 78s 2s/step - loss: 1.2845 - accuracy: 0.4424 - val_loss: 2.1619 - val_accuracy: 0.2467\n",
      "Epoch 3/30\n",
      "38/38 [==============================] - 76s 2s/step - loss: 1.0898 - accuracy: 0.5584 - val_loss: 1.3373 - val_accuracy: 0.5132\n",
      "Epoch 4/30\n",
      "38/38 [==============================] - 98s 3s/step - loss: 0.9670 - accuracy: 0.6152 - val_loss: 1.5578 - val_accuracy: 0.4704\n",
      "Epoch 5/30\n",
      "38/38 [==============================] - 82s 2s/step - loss: 0.9151 - accuracy: 0.6469 - val_loss: 1.0248 - val_accuracy: 0.6118\n",
      "Epoch 6/30\n",
      "38/38 [==============================] - 70s 2s/step - loss: 0.7105 - accuracy: 0.7412 - val_loss: 1.1673 - val_accuracy: 0.6316\n",
      "Epoch 7/30\n",
      "38/38 [==============================] - 71s 2s/step - loss: 0.6457 - accuracy: 0.7504 - val_loss: 0.7078 - val_accuracy: 0.7138\n",
      "Epoch 8/30\n",
      "38/38 [==============================] - 71s 2s/step - loss: 0.4645 - accuracy: 0.8372 - val_loss: 0.7090 - val_accuracy: 0.8125\n",
      "Epoch 9/30\n",
      "38/38 [==============================] - 70s 2s/step - loss: 0.3572 - accuracy: 0.8664 - val_loss: 1.2291 - val_accuracy: 0.7237\n",
      "Epoch 10/30\n",
      "38/38 [==============================] - 70s 2s/step - loss: 0.3188 - accuracy: 0.8948 - val_loss: 0.8479 - val_accuracy: 0.7072\n",
      "Epoch 11/30\n",
      "38/38 [==============================] - 70s 2s/step - loss: 0.3340 - accuracy: 0.8773 - val_loss: 0.4057 - val_accuracy: 0.8684\n",
      "Epoch 12/30\n",
      "38/38 [==============================] - 69s 2s/step - loss: 0.3890 - accuracy: 0.8673 - val_loss: 0.5595 - val_accuracy: 0.8224\n",
      "Epoch 13/30\n",
      "38/38 [==============================] - 69s 2s/step - loss: 0.2118 - accuracy: 0.9207 - val_loss: 0.6015 - val_accuracy: 0.8224\n",
      "Epoch 14/30\n",
      "38/38 [==============================] - 70s 2s/step - loss: 0.2539 - accuracy: 0.9224 - val_loss: 0.7429 - val_accuracy: 0.7993\n"
     ]
    }
   ],
   "source": [
    "history = model.fit(\n",
    "    train_generator,\n",
    "    shuffle=True,\n",
    "    verbose=True,\n",
    "    epochs=30,\n",
    "    validation_data=val_generator,\n",
    "    callbacks=[monitor_val_acc]\n",
    ")"
   ]
  },
  {
   "cell_type": "code",
   "execution_count": 31,
   "metadata": {},
   "outputs": [],
   "source": [
    "reduce_lr = tf.keras.callbacks.ReduceLROnPlateau(\n",
    "    monitor='val_accuracy',\n",
    "    patience= 2,\n",
    "    verbose= 1,\n",
    "    factor=0.3,\n",
    "    min_lr=0.000001\n",
    ")"
   ]
  },
  {
   "cell_type": "code",
   "execution_count": 32,
   "metadata": {},
   "outputs": [],
   "source": [
    "from tensorflow.keras.applications import InceptionV3\n",
    "model = InceptionV3(weights = 'imagenet',\n",
    "                    include_top=False,\n",
    "                    input_shape=(150,150,3))\n",
    "model.trainable = False"
   ]
  },
  {
   "cell_type": "code",
   "execution_count": 33,
   "metadata": {},
   "outputs": [],
   "source": [
    "from keras.models import Sequential\n",
    "from keras.models import Model\n",
    "from keras.callbacks import ModelCheckpoint, LearningRateScheduler, EarlyStopping, ReduceLROnPlateau, TensorBoard\n",
    "from keras import optimizers, losses, activations, models\n",
    "from keras.layers import Convolution2D, Dense, Input, Flatten, Dropout, MaxPooling2D, BatchNormalization, GlobalAveragePooling2D, Concatenate\n",
    "from keras import applications"
   ]
  },
  {
   "cell_type": "code",
   "execution_count": 34,
   "metadata": {},
   "outputs": [
    {
     "name": "stdout",
     "output_type": "stream",
     "text": [
      "Model: \"sequential_5\"\n",
      "_________________________________________________________________\n",
      " Layer (type)                Output Shape              Param #   \n",
      "=================================================================\n",
      " inception_v3 (Functional)   (None, 3, 3, 2048)        21802784  \n",
      "                                                                 \n",
      " flatten_5 (Flatten)         (None, 18432)             0         \n",
      "                                                                 \n",
      " dense_17 (Dense)            (None, 1024)              18875392  \n",
      "                                                                 \n",
      " dense_18 (Dense)            (None, 512)               524800    \n",
      "                                                                 \n",
      " dense_19 (Dense)            (None, 256)               131328    \n",
      "                                                                 \n",
      " dropout_4 (Dropout)         (None, 256)               0         \n",
      "                                                                 \n",
      " dense_20 (Dense)            (None, 5)                 1285      \n",
      "                                                                 \n",
      "=================================================================\n",
      "Total params: 41,335,589\n",
      "Trainable params: 19,532,805\n",
      "Non-trainable params: 21,802,784\n",
      "_________________________________________________________________\n"
     ]
    },
    {
     "name": "stderr",
     "output_type": "stream",
     "text": [
      "c:\\Users\\ahmad\\AppData\\Local\\Programs\\Python\\Python311\\Lib\\site-packages\\keras\\optimizers\\legacy\\adam.py:117: UserWarning: The `lr` argument is deprecated, use `learning_rate` instead.\n",
      "  super().__init__(name, **kwargs)\n"
     ]
    }
   ],
   "source": [
    "add_model = Sequential()\n",
    "add_model.add(model)\n",
    "add_model.add(Flatten())\n",
    "add_model.add(tf.keras.layers.Dense(1024, activation='relu'))\n",
    "add_model.add(tf.keras.layers.Dense(512, activation='relu'))\n",
    "add_model.add(tf.keras.layers.Dense(256, activation='relu'))\n",
    "add_model.add(Dropout(0.2))\n",
    "add_model.add(Dense(5, activation='softmax'))\n",
    "\n",
    "model = add_model\n",
    "model.compile(loss='categorical_crossentropy',\n",
    "              optimizer=optimizers.Adam(lr=1e-4),\n",
    "              metrics=['accuracy'])\n",
    "model.summary()"
   ]
  },
  {
   "cell_type": "code",
   "execution_count": 35,
   "metadata": {},
   "outputs": [
    {
     "name": "stdout",
     "output_type": "stream",
     "text": [
      "Epoch 1/15\n",
      "38/38 [==============================] - 87s 2s/step - loss: 0.6811 - accuracy: 0.7880 - val_loss: 0.1115 - val_accuracy: 0.9474 - lr: 1.0000e-04\n",
      "Epoch 2/15\n",
      "38/38 [==============================] - 72s 2s/step - loss: 0.1385 - accuracy: 0.9524 - val_loss: 0.0309 - val_accuracy: 0.9868 - lr: 1.0000e-04\n",
      "Epoch 3/15\n",
      "38/38 [==============================] - 70s 2s/step - loss: 0.0615 - accuracy: 0.9741 - val_loss: 0.0241 - val_accuracy: 0.9934 - lr: 1.0000e-04\n",
      "Epoch 4/15\n",
      "38/38 [==============================] - 70s 2s/step - loss: 0.0809 - accuracy: 0.9783 - val_loss: 0.0211 - val_accuracy: 0.9868 - lr: 1.0000e-04\n",
      "Epoch 5/15\n",
      "38/38 [==============================] - 70s 2s/step - loss: 0.0603 - accuracy: 0.9800 - val_loss: 0.0028 - val_accuracy: 1.0000 - lr: 1.0000e-04\n",
      "Epoch 6/15\n",
      "38/38 [==============================] - 70s 2s/step - loss: 0.0505 - accuracy: 0.9816 - val_loss: 0.0054 - val_accuracy: 0.9967 - lr: 1.0000e-04\n",
      "Epoch 7/15\n",
      "38/38 [==============================] - ETA: 0s - loss: 0.0781 - accuracy: 0.9725\n",
      "Epoch 7: ReduceLROnPlateau reducing learning rate to 2.9999999242136255e-05.\n",
      "38/38 [==============================] - 70s 2s/step - loss: 0.0781 - accuracy: 0.9725 - val_loss: 0.0273 - val_accuracy: 0.9868 - lr: 1.0000e-04\n",
      "Epoch 8/15\n",
      "38/38 [==============================] - 70s 2s/step - loss: 0.0306 - accuracy: 0.9900 - val_loss: 0.0081 - val_accuracy: 0.9967 - lr: 3.0000e-05\n"
     ]
    }
   ],
   "source": [
    "history = model.fit(train_generator,\n",
    "                    epochs=15,\n",
    "                    shuffle=True,\n",
    "                    verbose=True,\n",
    "                    validation_data=val_generator,\n",
    "                    callbacks=[reduce_lr,monitor_val_acc])"
   ]
  },
  {
   "cell_type": "code",
   "execution_count": 36,
   "metadata": {},
   "outputs": [],
   "source": [
    "add_model.save('Model.h5')"
   ]
  },
  {
   "cell_type": "code",
   "execution_count": null,
   "metadata": {},
   "outputs": [],
   "source": []
  }
 ],
 "metadata": {
  "kernelspec": {
   "display_name": "Python 3",
   "language": "python",
   "name": "python3"
  },
  "language_info": {
   "codemirror_mode": {
    "name": "ipython",
    "version": 3
   },
   "file_extension": ".py",
   "mimetype": "text/x-python",
   "name": "python",
   "nbconvert_exporter": "python",
   "pygments_lexer": "ipython3",
   "version": "3.11.3"
  },
  "orig_nbformat": 4
 },
 "nbformat": 4,
 "nbformat_minor": 2
}
